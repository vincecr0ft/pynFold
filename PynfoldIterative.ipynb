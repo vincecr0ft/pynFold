{
 "cells": [
  {
   "cell_type": "code",
   "execution_count": 1,
   "metadata": {},
   "outputs": [
    {
     "data": {
      "application/javascript": [
       "\n",
       "Jupyter.CodeCell.options_default.highlight_modes['magic_text/x-c++src'] = {'reg':[/^%%cpp/]};\n",
       "console.log(\"JupyROOT - %%cpp magic configured\");\n"
      ]
     },
     "metadata": {},
     "output_type": "display_data"
    },
    {
     "name": "stdout",
     "output_type": "stream",
     "text": [
      "Welcome to JupyROOT 6.11/01\n"
     ]
    }
   ],
   "source": [
    "import ROOT\n",
    "import numpy as np\n",
    "import matplotlib.pyplot as plt"
   ]
  },
  {
   "cell_type": "code",
   "execution_count": 2,
   "metadata": {
    "collapsed": true
   },
   "outputs": [],
   "source": [
    "def smear(xt):\n",
    "  xeff = 0.3 + (1.0-0.3)/20*(xt+10.0)  #  efficiency                                                                                  \n",
    "  x = ROOT.gRandom.Rndm()\n",
    "  if x>xeff: return None\n",
    "  xsmear = ROOT.gRandom.Gaus(-2.5,0.2)     #  bias and smear \n",
    "  return xt + xsmear"
   ]
  },
  {
   "cell_type": "markdown",
   "metadata": {},
   "source": [
    "Let's start with the pyroot function. \n",
    "\n",
    "This is trained with a Breit-Wigner, mean 0.3 and width 2.5.     "
   ]
  },
  {
   "cell_type": "code",
   "execution_count": 3,
   "metadata": {
    "collapsed": true
   },
   "outputs": [],
   "source": [
    "class Response:\n",
    "    def __init__(self, nb, xlo, xhi):\n",
    "        self.measured = ROOT.TH1D(\"measured\",\"measured\",nb, xlo, xhi)\n",
    "        self.truth = ROOT.TH1D(\"truth\",\"truth\",nb, xlo, xhi)\n",
    "        self.response = ROOT.TH2D(\"Response\",\"Response\",nb, xlo, xhi, nb, xlo, xhi)\n",
    "    def Fill(self, xr, xt):\n",
    "        self.measured.Fill(xr)\n",
    "        self.truth.Fill(xt)\n",
    "        self.response.Fill(xr, xt)\n",
    "    def Miss(self, xt):\n",
    "        self.truth.Fill(xt)"
   ]
  },
  {
   "cell_type": "code",
   "execution_count": 4,
   "metadata": {},
   "outputs": [],
   "source": [
    "response = Response(40, -10.0, 10.0)\n",
    "for i in xrange(100000):\n",
    "  xt = ROOT.gRandom.BreitWigner(0.3, 2.5)\n",
    "  x = smear(xt)\n",
    "  if x!=None:\n",
    "    response.Fill(x, xt)\n",
    "  else:\n",
    "    response.Miss(xt)"
   ]
  },
  {
   "cell_type": "code",
   "execution_count": 5,
   "metadata": {},
   "outputs": [
    {
     "data": {
      "image/png": "[encoded data removed]",
      "text/plain": [
       "<IPython.core.display.Image object>"
      ]
     },
     "metadata": {},
     "output_type": "display_data"
    }
   ],
   "source": [
    "R = response.response\n",
    "c1 = ROOT.TCanvas()\n",
    "R.Draw(\"colz\")\n",
    "c1.Draw()"
   ]
  },
  {
   "cell_type": "code",
   "execution_count": 6,
   "metadata": {
    "collapsed": true
   },
   "outputs": [],
   "source": [
    "def smear_np(xt):\n",
    "    xeff = 0.3 + (1.0-0.3)/20*(xt+10.0)\n",
    "    if np.random.rand()>xeff: return None\n",
    "    xsmear = np.random.normal(-2.5,0.2)     #  bias and smear \n",
    "    return xt + xsmear"
   ]
  },
  {
   "cell_type": "code",
   "execution_count": 7,
   "metadata": {},
   "outputs": [],
   "source": [
    "class NP_Response:\n",
    "    def __init__(self, truth, responsex, responsey, nbins, xlo, xhi):\n",
    "        self.truth = np.histogram(truth, bins = nbins, range = (xlo,xhi))\n",
    "        self.measured = np.histogram(responsex, bins = nbins, range = (xlo,xhi))\n",
    "        self.response = np.histogram2d(responsex, responsey, bins = nbins, range = [[xlo,xhi],[xlo,xhi]])"
   ]
  },
  {
   "cell_type": "code",
   "execution_count": 8,
   "metadata": {
    "scrolled": true
   },
   "outputs": [],
   "source": [
    "truth = []\n",
    "responsex = []\n",
    "responsey = []\n",
    "for i in xrange(100000):\n",
    "  xt = ROOT.gRandom.BreitWigner(0.3, 2.5)\n",
    "  x = smear(xt)\n",
    "  if x!=None:\n",
    "    responsex.append(x)\n",
    "    responsey.append(xt)\n",
    "  else:\n",
    "    truth.append(xt)\n",
    "    \n",
    "new_response = NP_Response(truth, responsex, responsey, 40, -10., 10.)"
   ]
  },
  {
   "cell_type": "code",
   "execution_count": 9,
   "metadata": {},
   "outputs": [
    {
     "data": {
      "image/png": "[encoded data removed]",
      "text/plain": [
       "<matplotlib.figure.Figure at 0x106728b10>"
      ]
     },
     "metadata": {},
     "output_type": "display_data"
    }
   ],
   "source": [
    "H, xedges, yedges = new_response.response\n",
    "plt.imshow(H.T, interpolation='nearest', origin='low',\n",
    "         extent=[xedges[0], xedges[-1], yedges[0], yedges[-1]],cmap=\"plasma\")\n",
    "plt.show()"
   ]
  },
  {
   "cell_type": "markdown",
   "metadata": {},
   "source": [
    "### Iterative code"
   ]
  },
  {
   "cell_type": "markdown",
   "metadata": {},
   "source": [
    "Using the response matrix we trained earlier using a breit-wigner distribution. We can now test with a gaussian."
   ]
  },
  {
   "cell_type": "code",
   "execution_count": 10,
   "metadata": {
    "collapsed": true
   },
   "outputs": [],
   "source": [
    "def array_from_TH1(th1):\n",
    "    a = np.zeros(th1.GetNbinsX())\n",
    "    nbins = th1.GetNbinsX()\n",
    "    xlo = th1.GetXaxis().GetBinLowEdge(1)\n",
    "    xhi = th1.GetXaxis().GetBinUpEdge(nbins)\n",
    "    for i in range(1,th1.GetNbinsX()):\n",
    "        a[i-1] = th1.GetBinContent(i)\n",
    "    return a, nbins, xlo, xhi"
   ]
  },
  {
   "cell_type": "code",
   "execution_count": 11,
   "metadata": {},
   "outputs": [],
   "source": [
    "hTrue = ROOT.TH1D (\"true\", \"Test Truth\",    40, -10.0, 10.0);\n",
    "hMeas = ROOT.TH1D (\"meas\", \"Test Measured\", 40, -10.0, 10.0);\n",
    "#  Test with a Gaussian, mean 0 and width 2.                                                                                          \n",
    "for i in xrange(10000):\n",
    "    xt = ROOT.gRandom.Gaus (0.0, 2.0)\n",
    "    x = smear (xt);\n",
    "    hTrue.Fill(xt);\n",
    "    if x != None: hMeas.Fill(x);"
   ]
  },
  {
   "cell_type": "code",
   "execution_count": 12,
   "metadata": {},
   "outputs": [
    {
     "name": "stdout",
     "output_type": "stream",
     "text": [
      "10000.0 6506.0\n"
     ]
    },
    {
     "data": {
      "image/png": "[encoded data removed]",
      "text/plain": [
       "<IPython.core.display.Image object>"
      ]
     },
     "metadata": {},
     "output_type": "display_data"
    }
   ],
   "source": [
    "print hTrue.GetEntries(), hMeas.GetEntries()\n",
    "\n",
    "c1 = ROOT.TCanvas()\n",
    "hTrue.SetStats(0)\n",
    "hTrue.SetLineColor(2)\n",
    "hTrue.Draw()\n",
    "hMeas.Draw(\"same\")\n",
    "\n",
    "leg = ROOT.TLegend(0.6, 0.6, 0.9, 0.9)\n",
    "leg.AddEntry(hTrue, \"True distribution\",\"pl\")\n",
    "leg.AddEntry(hMeas, \"Measured distribution\", \"pl\")\n",
    "leg.Draw()\n",
    "c1.Draw()"
   ]
  },
  {
   "cell_type": "code",
   "execution_count": 13,
   "metadata": {
    "scrolled": true
   },
   "outputs": [],
   "source": [
    "npMeas, nbins, xlo, xhi = array_from_TH1(hMeas)\n",
    "npTrue, nbins, xlo, xhi = array_from_TH1(hTrue)"
   ]
  },
  {
   "cell_type": "code",
   "execution_count": 14,
   "metadata": {},
   "outputs": [
    {
     "data": {
      "image/png": "[encoded data removed]",
      "text/plain": [
       "<matplotlib.figure.Figure at 0x12dba2550>"
      ]
     },
     "metadata": {},
     "output_type": "display_data"
    }
   ],
   "source": [
    "rang = np.linspace(xlo, xhi, nbins)\n",
    "width = (xhi-xlo)/nbins\n",
    "plt.bar(rang, npMeas, fill=False, edgecolor='blue', width=width)\n",
    "plt.bar(rang, npTrue, fill=False, edgecolor='red', width=width)\n",
    "plt.show()"
   ]
  },
  {
   "cell_type": "code",
   "execution_count": 15,
   "metadata": {
    "collapsed": true
   },
   "outputs": [],
   "source": [
    "class UnfoldIterative:\n",
    "    def __init__(self, response, measured, niterations):\n",
    "        self.response = response\n",
    "        self.measured = measured\n",
    "        self.niterations = niterations\n",
    "        self.unfolded = False\n",
    "        self.nm = response.measured.GetNbinsX()\n",
    "        self.nt = response.truth.GetNbinsX()\n",
    "\n",
    "    def unfold(self):\n",
    "        mu = ROOT.TVectorD(self.nt)\n",
    "        p = ROOT.TVectorD(self.nt)\n",
    "        ntot = self.measured.Integral()\n",
    "        for i in range(self.nt):\n",
    "            p[i] = 1./self.nt\n",
    "            mu[i] = ntot/self.nt\n",
    "            \n",
    "        epsilons = ROOT.TVectorD(self.nt)\n",
    "        self.reco = self.response.truth.Clone()\n",
    "        response = self.response.response\n",
    "\n",
    "        for j in range(self.nm):\n",
    "            observed_anywhere = 0.0\n",
    "            for i in range(self.nt):\n",
    "                observed_anywhere += response.GetBinContent(i,j)\n",
    "            epsilons[j] = observed_anywhere/self.response.truth.GetBinContent(j)\n",
    "\n",
    "        for iteration in range(self.niterations):\n",
    "            for i in range(1,self.nt+1):    # which bin in the reco distribution\n",
    "                sumoverj = 0.0\n",
    "                sumofmus = 0.0\n",
    "                for j in range(1,self.nm+1):\n",
    "                    sumoverk = 0.0\n",
    "                    for k in range(1,self.nt+1):\n",
    "                        sumoverk += response.GetBinContent(j,k)*p[k-1]\n",
    "                    if sumoverk > 0: \n",
    "                        sumoverj += self.measured.GetBinContent(j)*response.GetBinContent(j,i)*p[i-1]/sumoverk\n",
    "                    else: sumoverj += 0.0\n",
    "                mu[i-1] = sumoverj/epsilons[i-1]\n",
    "                \n",
    "\n",
    "            mutot = 0.0\n",
    "            for j in range(self.nt):\n",
    "                mutot += mu[j]\n",
    "            for j in range(self.nt):                \n",
    "                p[j] = mu[j]/mutot\n",
    "\n",
    "        for i in range(1,self.nt+1):\n",
    "            self.reco.SetBinContent(i,mu[i-1])\n",
    "            \n",
    "        self.unfolded = True\n",
    "\n",
    "    def Hreco(self):\n",
    "        if self.unfolded: return self.reco\n",
    "        else:\n",
    "            self.unfold()\n",
    "            return self.reco"
   ]
  },
  {
   "cell_type": "markdown",
   "metadata": {},
   "source": [
    "So let's copy this function!"
   ]
  },
  {
   "cell_type": "code",
   "execution_count": 16,
   "metadata": {},
   "outputs": [],
   "source": [
    "class PynfoldIterative:\n",
    "    def __init__(self, response, measured, niterations):\n",
    "        #self.response, xedges, yedges = response.response\n",
    "        self.response = response\n",
    "        _, xedges, yedges = response.response\n",
    "        self.measured = measured\n",
    "        self.niterations = niterations\n",
    "        self.unfolded = False\n",
    "        self.nm = len(xedges) - 1\n",
    "        self.nt = len(yedges) - 1\n",
    "\n",
    "    def unfold(self):\n",
    "        mu = [self.measured.sum()/self.nt for i in range(self.nt)]\n",
    "        p = [1./self.nt for i in range(self.nt)]\n",
    "            \n",
    "        epsilons = ROOT.TVectorD(self.nt)\n",
    "        response,_,_ = self.response.response\n",
    "        truth, _ = self.response.truth\n",
    "        epsilons = [response[i,:].sum()/truth[i] for i in range(self.nt)]\n",
    "        measured = self.measured\n",
    "        for iteration in range(self.niterations):\n",
    "            for i in range(self.nt):    # which bin in the reco distribution\n",
    "                sumoverj = 0.0\n",
    "                for j in range(self.nm):\n",
    "                    sumoverk = np.asarray([response[j,k]*p[k] for k in range(self.nt)]).sum()\n",
    "                    if sumoverk > 0: \n",
    "                        sumoverj += measured[j]*response[j,i]*p[i]/sumoverk\n",
    "                    else: sumoverj += 0.0\n",
    "                mu[i] = sumoverj/epsilons[i] if epsilons[i] > 0 else 0\n",
    "            for j in range(self.nt):                \n",
    "                p[j] = mu[j]/np.asarray(mu).sum() if np.asarray(mu).sum() > 0 else 0.\n",
    "\n",
    "            self.reco = mu\n",
    "\n",
    "    def Hreco(self):\n",
    "        if self.unfolded: return self.reco\n",
    "        else:\n",
    "            self.unfold()\n",
    "            return self.reco"
   ]
  },
  {
   "cell_type": "code",
   "execution_count": 17,
   "metadata": {},
   "outputs": [],
   "source": [
    "new_unfold = PynfoldIterative(new_response, npMeas, 4)"
   ]
  },
  {
   "cell_type": "code",
   "execution_count": 18,
   "metadata": {},
   "outputs": [
    {
     "data": {
      "text/plain": [
       "2.0"
      ]
     },
     "execution_count": 18,
     "metadata": {},
     "output_type": "execute_result"
    }
   ],
   "source": [
    "npMeas[1]"
   ]
  },
  {
   "cell_type": "code",
   "execution_count": 19,
   "metadata": {
    "scrolled": true
   },
   "outputs": [],
   "source": [
    "new_reco = new_unfold.Hreco()"
   ]
  },
  {
   "cell_type": "code",
   "execution_count": 20,
   "metadata": {},
   "outputs": [
    {
     "data": {
      "image/png": "[encoded data removed]",
      "text/plain": [
       "<matplotlib.figure.Figure at 0x12e742410>"
      ]
     },
     "metadata": {},
     "output_type": "display_data"
    }
   ],
   "source": [
    "rang = np.linspace(xlo, xhi, nbins)\n",
    "width = (xhi-xlo)/nbins\n",
    "plt.bar(rang, npMeas, fill=False, edgecolor='blue', width=width)\n",
    "plt.bar(rang, new_reco, fill=False, edgecolor='lightblue', width=width)\n",
    "plt.show()"
   ]
  },
  {
   "cell_type": "code",
   "execution_count": null,
   "metadata": {
    "collapsed": true
   },
   "outputs": [],
   "source": []
  }
 ],
 "metadata": {
  "kernelspec": {
   "display_name": "Python 2",
   "language": "python",
   "name": "python2"
  },
  "language_info": {
   "codemirror_mode": {
    "name": "ipython",
    "version": 2
   },
   "file_extension": ".py",
   "mimetype": "text/x-python",
   "name": "python",
   "nbconvert_exporter": "python",
   "pygments_lexer": "ipython2",
   "version": "2.7.13"
  }
 },
 "nbformat": 4,
 "nbformat_minor": 2
}
