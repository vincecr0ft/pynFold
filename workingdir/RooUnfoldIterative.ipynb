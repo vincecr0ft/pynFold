{
 "cells": [
  {
   "cell_type": "code",
   "execution_count": 1,
   "metadata": {},
   "outputs": [
    {
     "data": {
      "application/javascript": [
       "\n",
       "Jupyter.CodeCell.options_default.highlight_modes['magic_text/x-c++src'] = {'reg':[/^%%cpp/]};\n",
       "console.log(\"JupyROOT - %%cpp magic configured\");\n"
      ]
     },
     "metadata": {},
     "output_type": "display_data"
    },
    {
     "name": "stdout",
     "output_type": "stream",
     "text": [
      "Welcome to JupyROOT 6.11/01\n"
     ]
    }
   ],
   "source": [
    "import ROOT"
   ]
  },
  {
   "cell_type": "markdown",
   "metadata": {},
   "source": [
    "### Mathematical Problem\n",
    "\n",
    "A histogram of some distribution $y$ has $M$ bins. $\\widehat \\mu$ represents the ezpection value of the number of entries in bin $i$ of the histogram. So it progresses for the *true* histogram; $\\mu_\\mathrm{Tot}=\\sum_i\\mu_i$ and $p(y|i)=p_i=\\mu_i/\\mu_\\mathrm{Tot}$ The goal of this problem is not to estimate the parameters $\\theta$ that parametrise $f(y;\\theta)$ but instead the $\\mu_i$ parameters for each bin $\\overline{\\mu}=(\\mu_1,...,\\mu_M)$. This is not trivial because of fluctuations caused by the act of the measurement itself. Each observation is characterised by a unknown underlying value which is our function $y$ which we are interested in and a measured value $x$ obtained by the experiment.\n",
    "\n",
    "$$\n",
    "f(x)_\\mathrm{meas}=\\int R(x|y)f_\\mathrm{true}(y)dy\n",
    "$$\n",
    "\n",
    "Where $R(x|y)$ is the response function if $x$ and $y$ are the pdfs represented by histograms. This can be done in RooUnfold as:"
   ]
  },
  {
   "cell_type": "code",
   "execution_count": 2,
   "metadata": {
    "collapsed": true
   },
   "outputs": [],
   "source": [
    "response = ROOT.RooUnfoldResponse (40, -10.0, 10.0)"
   ]
  },
  {
   "cell_type": "markdown",
   "metadata": {},
   "source": [
    "In which the first term is the number of bins and the range over which you which this function to be valid over however the crux of the function needs a true histogram and a measured histogram to produce a response which can be drawn as a two dimensional histogram. Before we make one let's see how they're used!\n",
    "\n",
    "first we make some function that smears some distribution and removes certain events to mimic the measurement efficiency."
   ]
  },
  {
   "cell_type": "code",
   "execution_count": 3,
   "metadata": {
    "collapsed": true
   },
   "outputs": [],
   "source": [
    "def smear(xt):\n",
    "  xeff = 0.3 + (1.0-0.3)/20*(xt+10.0)  #  efficiency                                                                                  \n",
    "  x = ROOT.gRandom.Rndm()\n",
    "  if x>xeff: return None\n",
    "  xsmear = ROOT.gRandom.Gaus(-2.5,0.2)     #  bias and smear \n",
    "  return xt + xsmear"
   ]
  },
  {
   "cell_type": "markdown",
   "metadata": {},
   "source": [
    "Train with a Breit-Wigner, mean 0.3 and width 2.5.     "
   ]
  },
  {
   "cell_type": "code",
   "execution_count": 4,
   "metadata": {
    "collapsed": true
   },
   "outputs": [],
   "source": [
    "for i in xrange(100000):\n",
    "  xt = ROOT.gRandom.BreitWigner(0.3, 2.5)\n",
    "  x = smear(xt)\n",
    "  if x!=None:\n",
    "    response.Fill(x, xt)\n",
    "  else:\n",
    "    response.Miss(xt)"
   ]
  },
  {
   "cell_type": "code",
   "execution_count": 5,
   "metadata": {
    "scrolled": true
   },
   "outputs": [
    {
     "data": {
      "image/png": "[encoded data removed]",
      "text/plain": [
       "<IPython.core.display.Image object>"
      ]
     },
     "metadata": {},
     "output_type": "display_data"
    }
   ],
   "source": [
    "R = response.HresponseNoOverflow()\n",
    "c1 = ROOT.TCanvas()\n",
    "R.Draw(\"colz\")\n",
    "c1.Draw()"
   ]
  },
  {
   "cell_type": "markdown",
   "metadata": {},
   "source": [
    "Ok so we need three histograms 2 are 1 dimensional and 1 is 2D. First of all we assume that both distributions have the same range and number of bins. We can add additional options for overloading etc. but for now this is fine. We need the distribution for both true and measured distributions (defined by fill) and also a case for if the measured event doesn't pass the efficiency criteria (called Miss)."
   ]
  },
  {
   "cell_type": "code",
   "execution_count": 6,
   "metadata": {
    "collapsed": true
   },
   "outputs": [],
   "source": [
    "class Response:\n",
    "    def __init__(self, nb, xlo, xhi):\n",
    "        self.measured = ROOT.TH1D(\"measured\",\"measured\",nb, xlo, xhi)\n",
    "        self.truth = ROOT.TH1D(\"truth\",\"truth\",nb, xlo, xhi)\n",
    "        self.response = ROOT.TH2D(\"Response\",\"Response\",nb, xlo, xhi, nb, xlo, xhi)\n",
    "    def Fill(self, xr, xt):\n",
    "        self.measured.Fill(xr)\n",
    "        self.truth.Fill(xt)\n",
    "        self.response.Fill(xr, xt)\n",
    "    def Miss(self, xt):\n",
    "        self.truth.Fill(xt)"
   ]
  },
  {
   "cell_type": "markdown",
   "metadata": {},
   "source": [
    "And now lets fill it the same way!"
   ]
  },
  {
   "cell_type": "code",
   "execution_count": 7,
   "metadata": {
    "collapsed": true
   },
   "outputs": [],
   "source": [
    "new_response = Response(40, -10.0, 10.0)\n",
    "for i in xrange(100000):\n",
    "  xt = ROOT.gRandom.BreitWigner(0.3, 2.5)\n",
    "  x = smear(xt)\n",
    "  if x!=None:\n",
    "    new_response.Fill(x, xt)\n",
    "  else:\n",
    "    new_response.Miss(xt)"
   ]
  },
  {
   "cell_type": "code",
   "execution_count": 8,
   "metadata": {},
   "outputs": [
    {
     "data": {
      "image/png": "[encoded data removed]",
      "text/plain": [
       "<IPython.core.display.Image object>"
      ]
     },
     "metadata": {},
     "output_type": "display_data"
    }
   ],
   "source": [
    "R = new_response.response\n",
    "c1 = ROOT.TCanvas()\n",
    "R.Draw(\"colz\")\n",
    "c1.Draw()"
   ]
  },
  {
   "cell_type": "markdown",
   "metadata": {},
   "source": [
    "At this point we should also change from our $f_\\mathrm{meas}(x)$ to a notation more suitable to histograms. \n",
    "$$\n",
    "f(x)_\\mathrm{meas}=\\int R(x|y)f_\\mathrm{true}(y)dy\n",
    "$$\n",
    "becomes\n",
    "$$\n",
    "\\nu_i=\\sum_{j=1}^M R_{ij}\\mu_j,\\ \\ \\ \\ \\ i= 1,...,N\n",
    "$$\n",
    "Where $\\mu$ is once again the expectation values for the histogram of $y$ and $\\nu$ is the expected number of events in the bins of the observed variable $x$. NB. True data will be an actual event count in each bin and therefore integer values whereas $\\nu$ is typically non-integer values. "
   ]
  },
  {
   "cell_type": "markdown",
   "metadata": {},
   "source": [
    "We can understand the response matrix as the conditional probability. By summing over the observed data we get the efficiency $\\epsilon_j$ for each bin of the true histogram."
   ]
  },
  {
   "cell_type": "markdown",
   "metadata": {},
   "source": [
    "We now have several ingreedients; $\\nu,\\mu$ and $R$. Since the data is a collection of integers $\\mathbf{n}$ we can express the above equation as not only the expectation value per bin given the data but also to include the expected number of background events in that bin $\\beta_i$. \n",
    "\n",
    "$$\n",
    "E[\\mathbf{n}]=\\nu=R\\mu+\\beta\n",
    "$$"
   ]
  },
  {
   "cell_type": "markdown",
   "metadata": {},
   "source": [
    "<center> <h3> Interlude: Don't unfold if you can help it. </h3></center>\n",
    "\n",
    "Unfolding allows for the preservation of the results of the experiment as it preserves a snapshot of the experimental response within its result. However this information is rarely actually preserved and therefore when errors are inevitably made, the mistakes might forever make the results of the experiment un-usable unless both the data and the response matrix are preserved. \n",
    "\n",
    "Anyway, moving on...\n",
    "\n",
    "#### Unfolding? What's that?\n",
    "By unfolding we construct estimators  $\\widehat{\\mu}$ for the bins of $y$ This is useful to directly compared with the results of other experiments as well as with theoretical predictions.\n"
   ]
  },
  {
   "cell_type": "markdown",
   "metadata": {},
   "source": [
    "If our goal is generally $\\mu$ then we need to invert our response matrix. \n",
    "$$\n",
    "\\boldsymbol{\\mu}= R^{-1}(\\boldsymbol{\\nu}-\\beta)\n",
    "$$\n",
    "We can assume the data is independent (individual events) and therefore each bin can be assumed to follow a poisson distribution.\n",
    "\n",
    "$$\n",
    "P(n_i;\\nu_i)=\\frac{\\nu_u^{n_i}}{n_i\\!}\\exp^{-\\nu_i}\n",
    "$$\n",
    "\n",
    "The maximum likelihood estimators for $\\nu$ are $\\mathbf{n}$ and thus can be taken as estimators for $\\mu$,\n",
    "\n",
    "$$\n",
    "\\boldsymbol{\\widehat{\\mu}}=R^{-1}(\\mathbf{n}-\\beta)\n",
    "$$\n",
    "\n",
    "In a perfect (exact) world all of the elements of the response matrix should be on the diagonal as large, off-diagonal elements indicate that the bin size is too small compared to the measurement resolution, then the estimates of $\\ \\boldsymbol{\\widehat{\\mu}}$ will have prohibatively large variances and will have strong negative correlations between neighbouring bins. It can be [prooved](http://www.ippp.dur.ac.uk/Workshops/02/statistics/proceedings/cowan.ps) that for independent poisson variables ML estimators in this case are unbiased. By calculating the minimum variance bound in this (unbiased) case we can assume that any estimators that we can construct that have a smaller variance will be biased in some way. This method can be understood as mittigating the effects of a large statistical error in favour of a smaller systematic error."
   ]
  },
  {
   "cell_type": "markdown",
   "metadata": {},
   "source": [
    "### Corrections from simulation\n",
    "\n",
    "In high energy physics a simple method to construct estimators using simulations in order to produced estimators with smaller variances. This takes the form of a correction factor:\n",
    "\n",
    "$$\n",
    "\\widehat{\\mu}_i=\\frac{\\mu_i^\\mathrm{MC}}{\\nu_i^\\mathrm{MC}}(n_i-\\beta_i)\n",
    "$$\n",
    "\n",
    "Here the superscript $^\\mathrm{MC}$ denotes values obtained from Monte Carlo simulation. Usually this is only done for the signal process since the background is subtracted separately. \n",
    "\n",
    "The covariance matrix for the process is given as:\n",
    "$$\n",
    "U_{ij}=\\mathbf{cov}[\\widehat{\\mu}_i,\\widehat{\\mu}_j]=C_i^2\\mathbf{cov}[n_i,n_j]\n",
    "$$\n",
    "\n",
    "If the correction factors are not too large (order of unity) the variances of the estimators do not become much larger than those provided by the poisson statistics of the data. These estimators are biased $b_i=E[\\widehat{\\mu}_i]-\\mu_i\\neq0$ but this bias can be calculated as:\n",
    "$$\n",
    "b_i = \\left(\\frac{\\mu_i^\\mathrm{MC}}{\\nu_i^\\mathrm{MC}}-\\frac{\\mu_i}{(\\nu_i-\\beta_i)}\\right)(\\nu_i-\\beta_i)\n",
    "$$\n",
    "\n",
    "Since this bias is related to the correctness of the model the bias tends to pull the estimators towards the predictions of the MC that we used for making the correction factors. In general this is better estimated by directly comparing the data and the models predicted $\\nu$ since use of this method requires including an estimate of the bias as a systematic uncertainty of the measurement. "
   ]
  },
  {
   "cell_type": "markdown",
   "metadata": {},
   "source": [
    "### Bayesian Unfolding\n",
    "\n",
    "this is an iterative method proposed by [D'Agostini](http://inspirehep.net/record/374574?ln=en) based on the elements of Bayesian statistics. An initial set of probabilities are given as $p_i=1/M$ for bins of equal size and these are used to provide the initial estimators. \n",
    "$$\n",
    "\\boldsymbol{\\widehat{\\mu}}_0=n_{tot}\\mathbf{p}_0\n",
    "$$\n",
    "\n",
    "These are updated using bayes theorem to write the conditional probability that the event originate in bin $i$ given that it was observed in bin $j$ using the response matrix $R$ and the prior probabilities $\\mathbf{p}$:\n",
    "\n",
    "$$\n",
    "\\boldsymbol{\\widehat{\\mu}}_i=\\frac{1}{\\epsilon_i}\\sum_{j=1}^N P(\\mathrm{\\ true\\ value\\ in\\ bin\\ }i\\ |\\ \\mathrm{found\\ in\\ bin\\ }j\\ )\\ n_j\n",
    "$$\n",
    "\n",
    "$$\n",
    "=\\frac{1}{\\epsilon_i}\\sum_{j=1}^N\\left(\\frac{R_{ij}p_i}{\\sum_kR_{jk}p_k}\\right)\n",
    "$$\n",
    "\n",
    "These updated estimators are compared to those of the previous iteration by using a goodness of fit test such as the $\\chi^2$ test and then repeated if necesarry. "
   ]
  },
  {
   "cell_type": "markdown",
   "metadata": {},
   "source": [
    "<center> <h3> Interlude: Not actually Bayesian. </h3></center>\n",
    "\n",
    "The procedure uses Bayes’ theorem in an intermediate step however, calling it a Bayesian method implies that the estimators summarize in some way a joint posterior pdf for $\\mu$, normaly that $p(\\boldsymbol{\\mu}|\\mathbf{n})$ is related to the likelihood and the prior probability. Since this is not the case the *iterative* method is more descriptive... but less commonly used.  "
   ]
  },
  {
   "cell_type": "markdown",
   "metadata": {},
   "source": [
    "anyway... moving on...\n",
    "\n",
    "### Iterative code"
   ]
  },
  {
   "cell_type": "markdown",
   "metadata": {},
   "source": [
    "Using the response matrix we trained earlier using a breit-wigner distribution. We can now test with a gaussian."
   ]
  },
  {
   "cell_type": "code",
   "execution_count": 9,
   "metadata": {
    "collapsed": true
   },
   "outputs": [],
   "source": [
    "hTrue = ROOT.TH1D (\"true\", \"Test Truth\",    40, -10.0, 10.0);\n",
    "hMeas = ROOT.TH1D (\"meas\", \"Test Measured\", 40, -10.0, 10.0);\n",
    "#  Test with a Gaussian, mean 0 and width 2.                                                                                          \n",
    "for i in xrange(10000):\n",
    "    xt = ROOT.gRandom.Gaus (0.0, 2.0)\n",
    "    x = smear (xt);\n",
    "    hTrue.Fill(xt);\n",
    "    if x != None: hMeas.Fill(x);"
   ]
  },
  {
   "cell_type": "code",
   "execution_count": 10,
   "metadata": {},
   "outputs": [
    {
     "name": "stdout",
     "output_type": "stream",
     "text": [
      "10000.0 6506.0\n"
     ]
    },
    {
     "data": {
      "image/png": "[encoded data removed]",
      "text/plain": [
       "<IPython.core.display.Image object>"
      ]
     },
     "metadata": {},
     "output_type": "display_data"
    }
   ],
   "source": [
    "print hTrue.GetEntries(), hMeas.GetEntries()\n",
    "\n",
    "c1 = ROOT.TCanvas()\n",
    "hTrue.SetStats(0)\n",
    "hTrue.SetLineColor(2)\n",
    "hTrue.Draw()\n",
    "hMeas.Draw(\"same\")\n",
    "\n",
    "leg = ROOT.TLegend(0.6, 0.6, 0.9, 0.9)\n",
    "leg.AddEntry(hTrue, \"True distribution\",\"pl\")\n",
    "leg.AddEntry(hMeas, \"Measured distribution\", \"pl\")\n",
    "leg.Draw()\n",
    "c1.Draw()"
   ]
  },
  {
   "cell_type": "markdown",
   "metadata": {},
   "source": [
    "And now we call the function that we want. Here we take the RooUnfoldBayes function which requires a response matrix and the measured histogram to produce an unfolded histogram. The final input is the number of iterations required in this iterative method."
   ]
  },
  {
   "cell_type": "code",
   "execution_count": 11,
   "metadata": {},
   "outputs": [
    {
     "name": "stdout",
     "output_type": "stream",
     "text": [
      "Now unfolding...\n",
      "Iteration : 0\n",
      "Chi^2 of change 959.777\n",
      "Iteration : 1\n",
      "Chi^2 of change 6.79945\n",
      "Iteration : 2\n",
      "Chi^2 of change 0.97303\n",
      "Iteration : 3\n",
      "Chi^2 of change 0.475124\n",
      "Calculating covariances due to number of measured events\n"
     ]
    }
   ],
   "source": [
    "unfold = ROOT.RooUnfoldBayes(response, hMeas, 4)\n",
    "hReco = unfold.Hreco()"
   ]
  },
  {
   "cell_type": "code",
   "execution_count": 12,
   "metadata": {},
   "outputs": [
    {
     "data": {
      "image/png": "[encoded data removed]",
      "text/plain": [
       "<IPython.core.display.Image object>"
      ]
     },
     "metadata": {},
     "output_type": "display_data"
    }
   ],
   "source": [
    "c1 = ROOT.TCanvas()\n",
    "hReco.SetLineColor(6)\n",
    "hReco.Draw()\n",
    "hMeas.Draw(\"same\")\n",
    "hTrue.Draw(\"same\")\n",
    "c1.Draw()"
   ]
  },
  {
   "cell_type": "markdown",
   "metadata": {},
   "source": [
    "So let's copy this function!"
   ]
  },
  {
   "cell_type": "code",
   "execution_count": 13,
   "metadata": {},
   "outputs": [],
   "source": [
    "class UnfoldIterative:\n",
    "    def __init__(self, response, measured, niterations):\n",
    "        self.response = response\n",
    "        self.measured = measured\n",
    "        self.niterations = niterations\n",
    "        self.unfolded = False\n",
    "        self.nm = response.measured.GetNbinsX()\n",
    "        self.nt = response.truth.GetNbinsX()\n",
    "\n",
    "    def unfold(self):\n",
    "        mu = ROOT.TVectorD(self.nt)\n",
    "        p = ROOT.TVectorD(self.nt)\n",
    "        ntot = self.measured.Integral()\n",
    "        for i in range(self.nt):\n",
    "            p[i] = 1./self.nt\n",
    "            mu[i] = ntot/self.nt\n",
    "            \n",
    "        epsilons = ROOT.TVectorD(self.nt)\n",
    "        self.reco = self.response.truth.Clone()\n",
    "        response = self.response.response\n",
    "\n",
    "        for j in range(self.nt):\n",
    "            observed_anywhere = 0.0\n",
    "            for i in range(self.nm):\n",
    "                observed_anywhere += response.GetBinContent(i,j)\n",
    "            epsilons[j] = observed_anywhere/self.response.truth.GetBinContent(j)\n",
    "\n",
    "        for iteration in range(self.niterations):\n",
    "            for i in range(1,self.nt+1):    # which bin in the reco distribution\n",
    "                sumoverj = 0.0\n",
    "                sumofmus = 0.0\n",
    "                for j in range(1,self.nm+1):\n",
    "                    sumoverk = 0.0\n",
    "                    for k in range(1,self.nt+1):\n",
    "                        sumoverk += response.GetBinContent(j,k)*p[k-1]\n",
    "                    if sumoverk > 0: \n",
    "                        sumoverj += self.measured.GetBinContent(j)*response.GetBinContent(j,i)*p[i-1]/sumoverk\n",
    "                    else: sumoverj += 0.0\n",
    "                mu[i-1] = sumoverj/epsilons[i-1]\n",
    "                \n",
    "\n",
    "            mutot = 0.0\n",
    "            for j in range(self.nt):\n",
    "                mutot += mu[j]\n",
    "            for j in range(self.nt):                \n",
    "                p[j] = mu[j]/mutot\n",
    "\n",
    "        for i in range(1,self.nt+1):\n",
    "            self.reco.SetBinContent(i,mu[i-1])\n",
    "\n",
    "    def Hreco(self):\n",
    "        if self.unfolded: return self.reco\n",
    "        else:\n",
    "            self.unfold()\n",
    "            return self.reco"
   ]
  },
  {
   "cell_type": "code",
   "execution_count": 14,
   "metadata": {
    "collapsed": true
   },
   "outputs": [],
   "source": [
    "new_unfold = UnfoldIterative(new_response, hMeas, 4)"
   ]
  },
  {
   "cell_type": "code",
   "execution_count": 15,
   "metadata": {},
   "outputs": [],
   "source": [
    "new_reco = new_unfold.Hreco()"
   ]
  },
  {
   "cell_type": "code",
   "execution_count": 16,
   "metadata": {},
   "outputs": [
    {
     "data": {
      "image/png": "[encoded data removed]",
      "text/plain": [
       "<IPython.core.display.Image object>"
      ]
     },
     "metadata": {},
     "output_type": "display_data"
    }
   ],
   "source": [
    "c1 = ROOT.TCanvas()\n",
    "new_reco.SetLineColor(6)\n",
    "new_reco.Draw(\"e0\")\n",
    "hTrue.Draw(\"same\")\n",
    "hMeas.Draw(\"same\")\n",
    "c1.Draw()"
   ]
  },
  {
   "cell_type": "code",
   "execution_count": null,
   "metadata": {
    "collapsed": true
   },
   "outputs": [],
   "source": []
  }
 ],
 "metadata": {
  "kernelspec": {
   "display_name": "Python 2",
   "language": "python",
   "name": "python2"
  },
  "language_info": {
   "codemirror_mode": {
    "name": "ipython",
    "version": 2
   },
   "file_extension": ".py",
   "mimetype": "text/x-python",
   "name": "python",
   "nbconvert_exporter": "python",
   "pygments_lexer": "ipython2",
   "version": "2.7.13"
  }
 },
 "nbformat": 4,
 "nbformat_minor": 2
}
