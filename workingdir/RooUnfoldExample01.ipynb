{
 "cells": [
  {
   "cell_type": "code",
   "execution_count": 1,
   "metadata": {},
   "outputs": [
    {
     "data": {
      "application/javascript": [
       "\n",
       "Jupyter.CodeCell.options_default.highlight_modes['magic_text/x-c++src'] = {'reg':[/^%%cpp/]};\n",
       "console.log(\"JupyROOT - %%cpp magic configured\");\n"
      ]
     },
     "metadata": {},
     "output_type": "display_data"
    },
    {
     "name": "stdout",
     "output_type": "stream",
     "text": [
      "Welcome to JupyROOT 6.11/01\n"
     ]
    }
   ],
   "source": [
    "import ROOT"
   ]
  },
  {
   "cell_type": "markdown",
   "metadata": {},
   "source": [
    "###  Gaussian smearing, systematic translation, and variable inefficiency "
   ]
  },
  {
   "cell_type": "code",
   "execution_count": 2,
   "metadata": {
    "collapsed": true
   },
   "outputs": [],
   "source": [
    "def smear(xt):\n",
    "  xeff = 0.3 + (1.0-0.3)/20*(xt+10.0);  #  efficiency                                                                                  \n",
    "  x = ROOT.gRandom.Rndm();\n",
    "  if x>xeff: return None;\n",
    "  xsmear = ROOT.gRandom.Gaus(-2.5,0.2);     #  bias and smear                                                                               \n",
    "  return xt + xsmear;"
   ]
  },
  {
   "cell_type": "markdown",
   "metadata": {},
   "source": [
    "### Example Unfolding  \n",
    "First we train"
   ]
  },
  {
   "cell_type": "code",
   "execution_count": 3,
   "metadata": {
    "collapsed": true
   },
   "outputs": [],
   "source": [
    "response = ROOT.RooUnfoldResponse (40, -10.0, 10.0);\n",
    "\n",
    "#  Train with a Breit-Wigner, mean 0.3 and width 2.5.                                                                                 \n",
    "for i in xrange(100000):\n",
    "  xt = ROOT.gRandom.BreitWigner (0.3, 2.5);\n",
    "  x = smear(xt);\n",
    "  if x!=None:\n",
    "    response.Fill (x, xt);\n",
    "  else:\n",
    "    response.Miss (xt);"
   ]
  },
  {
   "cell_type": "markdown",
   "metadata": {},
   "source": [
    "Then we test"
   ]
  },
  {
   "cell_type": "code",
   "execution_count": 4,
   "metadata": {
    "collapsed": true
   },
   "outputs": [],
   "source": [
    "hTrue = ROOT.TH1D (\"true\", \"Test Truth\",    40, -10.0, 10.0);\n",
    "hMeas = ROOT.TH1D (\"meas\", \"Test Measured\", 40, -10.0, 10.0);\n",
    "#  Test with a Gaussian, mean 0 and width 2.                                                                                          \n",
    "for i in xrange(10000):\n",
    "    xt = ROOT.gRandom.Gaus (0.0, 2.0)\n",
    "    x = smear (xt);\n",
    "    hTrue.Fill(xt);\n",
    "    if x != None: hMeas.Fill(x);"
   ]
  },
  {
   "cell_type": "code",
   "execution_count": 5,
   "metadata": {},
   "outputs": [
    {
     "name": "stdout",
     "output_type": "stream",
     "text": [
      "10000.0 6526.0\n"
     ]
    },
    {
     "data": {
      "image/png": "[encoded data removed]",
      "text/plain": [
       "<IPython.core.display.Image object>"
      ]
     },
     "metadata": {},
     "output_type": "display_data"
    }
   ],
   "source": [
    "print hTrue.GetEntries(), hMeas.GetEntries()\n",
    "\n",
    "c1 = ROOT.TCanvas()\n",
    "hTrue.SetStats(0)\n",
    "hTrue.SetLineColor(2)\n",
    "hTrue.Draw()\n",
    "hMeas.Draw(\"same\")\n",
    "\n",
    "leg = ROOT.TLegend(0.6, 0.6, 0.9, 0.9)\n",
    "leg.AddEntry(hTrue, \"True distribution\",\"pl\")\n",
    "leg.AddEntry(hMeas, \"Measured distribution\", \"pl\")\n",
    "leg.Draw()\n",
    "c1.Draw()"
   ]
  },
  {
   "cell_type": "markdown",
   "metadata": {},
   "source": [
    "## Unfold!\n",
    "### Bayesian"
   ]
  },
  {
   "cell_type": "code",
   "execution_count": 6,
   "metadata": {},
   "outputs": [
    {
     "name": "stdout",
     "output_type": "stream",
     "text": [
      "Now unfolding...\n",
      "Iteration : 0\n",
      "Chi^2 of change 970.321\n",
      "Iteration : 1\n",
      "Chi^2 of change 7.84678\n",
      "Iteration : 2\n",
      "Chi^2 of change 1.56566\n",
      "Iteration : 3\n",
      "Chi^2 of change 0.843821\n",
      "Calculating covariances due to number of measured events\n"
     ]
    }
   ],
   "source": [
    "unfold = ROOT.RooUnfoldBayes(response, hMeas, 4)\n",
    "hReco = unfold.Hreco()"
   ]
  },
  {
   "cell_type": "code",
   "execution_count": 7,
   "metadata": {},
   "outputs": [
    {
     "data": {
      "image/png": "[encoded data removed]",
      "text/plain": [
       "<IPython.core.display.Image object>"
      ]
     },
     "metadata": {},
     "output_type": "display_data"
    }
   ],
   "source": [
    "c1 = ROOT.TCanvas()\n",
    "hReco.SetLineColor(6)\n",
    "hReco.Draw()\n",
    "hMeas.Draw(\"same\")\n",
    "hTrue.Draw(\"same\")\n",
    "c1.Draw()"
   ]
  },
  {
   "cell_type": "markdown",
   "metadata": {},
   "source": [
    "### SVD"
   ]
  },
  {
   "cell_type": "code",
   "execution_count": 8,
   "metadata": {},
   "outputs": [
    {
     "name": "stdout",
     "output_type": "stream",
     "text": [
      "SVD init 40 x 40 bins, kreg=20\n"
     ]
    },
    {
     "name": "stderr",
     "output_type": "stream",
     "text": [
      "Info in <TSVDUnfold_130729::Unfold>: Unfolding param: 20\n",
      "Info in <TSVDUnfold_130729::Unfold>: Curvature of weight distribution: 0.008766\n"
     ]
    },
    {
     "data": {
      "image/png": "[encoded data removed]",
      "text/plain": [
       "<IPython.core.display.Image object>"
      ]
     },
     "metadata": {},
     "output_type": "display_data"
    }
   ],
   "source": [
    "unfold = ROOT.RooUnfoldSvd(response, hMeas, 20)\n",
    "hReco = unfold.Hreco()\n",
    "c1 = ROOT.TCanvas()\n",
    "hReco.SetLineColor(6)\n",
    "hReco.Draw()\n",
    "hMeas.Draw(\"same\")\n",
    "hTrue.Draw(\"same\")\n",
    "c1.Draw()"
   ]
  },
  {
   "cell_type": "markdown",
   "metadata": {},
   "source": [
    "### Ids"
   ]
  },
  {
   "cell_type": "code",
   "execution_count": 9,
   "metadata": {},
   "outputs": [
    {
     "name": "stdout",
     "output_type": "stream",
     "text": [
      "IDS init 40 x 40\n"
     ]
    },
    {
     "data": {
      "image/png": "[encoded data removed]",
      "text/plain": [
       "<IPython.core.display.Image object>"
      ]
     },
     "metadata": {},
     "output_type": "display_data"
    }
   ],
   "source": [
    "unfold = ROOT.RooUnfoldIds(response, hMeas, 3)\n",
    "hReco = unfold.Hreco()\n",
    "c1 = ROOT.TCanvas()\n",
    "hReco.SetLineColor(6)\n",
    "hReco.Draw()\n",
    "hMeas.Draw(\"same\")\n",
    "hTrue.Draw(\"same\")\n",
    "c1.Draw()"
   ]
  },
  {
   "cell_type": "code",
   "execution_count": null,
   "metadata": {
    "collapsed": true
   },
   "outputs": [],
   "source": []
  }
 ],
 "metadata": {
  "kernelspec": {
   "display_name": "Python 2",
   "language": "python",
   "name": "python2"
  },
  "language_info": {
   "codemirror_mode": {
    "name": "ipython",
    "version": 2
   },
   "file_extension": ".py",
   "mimetype": "text/x-python",
   "name": "python",
   "nbconvert_exporter": "python",
   "pygments_lexer": "ipython2",
   "version": "2.7.13"
  }
 },
 "nbformat": 4,
 "nbformat_minor": 2
}
